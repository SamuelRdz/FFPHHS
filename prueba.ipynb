{
 "cells": [
  {
   "cell_type": "code",
   "execution_count": 3,
   "metadata": {},
   "outputs": [
    {
     "name": "stdout",
     "output_type": "stream",
     "text": [
      "      Unnamed: 0                                      INSTANCE  EDGE_DENSITY  \\\n",
      "858           19       instances/GBRL/1000_r0.058_0_geom_3.gin      0.005812   \n",
      "427            4    instances/BBGRL/1000_ep0.01_0_gilbert_1.in      0.004436   \n",
      "1445           4        instances/GBRL/100_r0.195_0_geom_6.gin      0.056566   \n",
      "2279           6       instances/GBRL/1000_r0.05_0_geom_10.gin      0.007043   \n",
      "68             4     instances/BBGRL/100_ep0.05_0_gilbert_2.in      0.015354   \n",
      "371            2    instances/BBGRL/100_ep0.075_0_gilbert_5.in      0.062626   \n",
      "1245           4         instances/GBRL/50_r0.299_0_geom_2.gin      0.101224   \n",
      "2345          14        instances/GBRL/500_r0.071_0_geom_5.gin      0.005707   \n",
      "723           24        instances/GBRL/1000_r0.05_0_geom_9.gin      0.004426   \n",
      "472            3     instances/BBGRL/50_ep0.15_0_gilbert_10.in      0.066122   \n",
      "226            0    instances/BBGRL/500_ep0.015_0_gilbert_3.in      0.015118   \n",
      "1638          25        instances/GBRL/500_r0.071_0_geom_4.gin      0.006589   \n",
      "1527          25        instances/GBRL/1000_r0.05_0_geom_3.gin      0.003041   \n",
      "1962          16       instances/GBRL/1000_r0.058_0_geom_1.gin      0.005834   \n",
      "1558           6        instances/GBRL/500_r0.093_0_geom_8.gin      0.018228   \n",
      "2117           3       instances/GBRL/50_ep0.15_0_gilbert_9.in      0.050612   \n",
      "504            4        instances/GBRL/1000_r0.05_0_geom_7.gin      0.007087   \n",
      "896            4       instances/GBRL/1000_r0.058_0_geom_8.gin      0.009528   \n",
      "1547           3        instances/GBRL/100_r0.219_0_geom_1.gin      0.087879   \n",
      "2039           8       instances/GBRL/1000_r0.065_0_geom_4.gin      0.009301   \n",
      "245            1    instances/BBGRL/100_ep0.075_0_gilbert_1.in      0.073333   \n",
      "1477           5       instances/GBRL/500_r0.083_0_geom_10.gin      0.017435   \n",
      "364            0    instances/BBGRL/100_ep0.075_0_gilbert_4.in      0.068889   \n",
      "655            1     instances/GBRL/1000_ep0.01_0_gilbert_6.in      0.009866   \n",
      "1218          12        instances/GBRL/1000_r0.05_0_geom_8.gin      0.006358   \n",
      "160            0      instances/BBGRL/100_ep0.1_0_gilbert_2.in      0.097576   \n",
      "176            3    instances/BBGRL/500_ep0.015_0_gilbert_6.in      0.010653   \n",
      "345            1  instances/BBGRL/1000_ep0.0125_0_gilbert_5.in      0.012577   \n",
      "1898           8       instances/GBRL/1000_r0.065_0_geom_8.gin      0.009403   \n",
      "1717           1        instances/GBRL/100_r0.219_0_geom_8.gin      0.107677   \n",
      "994           20       instances/GBRL/1000_r0.058_0_geom_7.gin      0.006599   \n",
      "543            1       instances/GBRL/1000_r0.058_0_geom_6.gin      0.010030   \n",
      "1590           1       instances/GBRL/1000_r0.065_0_geom_9.gin      0.012392   \n",
      "1207           1        instances/GBRL/1000_r0.05_0_geom_8.gin      0.007459   \n",
      "686           16       instances/GBRL/500_r0.071_0_geom_10.gin      0.008601   \n",
      "41             0      instances/BBGRL/50_ep0.15_0_gilbert_6.in      0.132245   \n",
      "925            4        instances/GBRL/500_r0.083_0_geom_8.gin      0.017563   \n",
      "937           16        instances/GBRL/500_r0.083_0_geom_8.gin      0.008321   \n",
      "528           28        instances/GBRL/1000_r0.05_0_geom_7.gin      0.003037   \n",
      "929            8        instances/GBRL/500_r0.083_0_geom_8.gin      0.012273   \n",
      "1746          15      instances/GBRL/1000_r0.058_0_geom_10.gin      0.006683   \n",
      "1118          30        instances/GBRL/1000_r0.05_0_geom_6.gin      0.003299   \n",
      "2348           1         instances/GBRL/50_r0.334_0_geom_5.gin      0.216327   \n",
      "60             1     instances/BBGRL/500_ep0.02_0_gilbert_8.in      0.019198   \n",
      "1372          12        instances/GBRL/500_r0.071_0_geom_1.gin      0.009210   \n",
      "1335           5  instances/GBRL/1000_ep0.0125_0_gilbert_10.in      0.006861   \n",
      "1358          15        instances/GBRL/500_r0.093_0_geom_7.gin      0.010758   \n",
      "1496           5        instances/GBRL/100_r0.219_0_geom_7.gin      0.048081   \n",
      "59             0     instances/BBGRL/500_ep0.02_0_gilbert_8.in      0.019439   \n",
      "289            3       instances/BBGRL/50_ep0.2_0_gilbert_8.in      0.081633   \n",
      "\n",
      "      AVG_DEGREE  BURNING_NODES  BURNING_EDGES  NODES_IN_DANGER HEURISTIC  \\\n",
      "858     0.009071          0.705       0.003308            0.735      LDEG   \n",
      "427     0.000000          0.996       0.004436            0.922      GDEG   \n",
      "1445    0.050505          0.870       0.052020            0.910      LDEG   \n",
      "2279    0.007462          0.091       0.000305            0.131      LDEG   \n",
      "68      0.017677          0.920       0.014646            0.710      GDEG   \n",
      "371     0.068717          0.320       0.017273            0.850      GDEG   \n",
      "1245    0.154519          0.780       0.079592            0.900      GDEG   \n",
      "2345    0.007014          0.960       0.005623            0.916      LDEG   \n",
      "723     0.006581          0.581       0.001827            0.596      LDEG   \n",
      "472     0.000000          0.940       0.066122            0.860      GDEG   \n",
      "226     0.015124          0.002       0.000024            0.012      GDEG   \n",
      "1638    0.011774          0.838       0.005271            0.816      LDEG   \n",
      "1527    0.000000          0.975       0.003041            0.920      LDEG   \n",
      "1962    0.008978          0.725       0.003509            0.765      LDEG   \n",
      "1558    0.023084          0.506       0.007102            0.634      LDEG   \n",
      "2117    0.020408          0.920       0.050204            0.760      LDEG   \n",
      "504     0.007307          0.065       0.000284            0.097      LDEG   \n",
      "896     0.009874          0.092       0.000602            0.150      LDEG   \n",
      "1547    0.111800          0.530       0.038687            0.710      GDEG   \n",
      "2039    0.011897          0.426       0.002568            0.522      LDEG   \n",
      "245     0.076791          0.110       0.005758            0.440      LDEG   \n",
      "1477    0.019420          0.188       0.001860            0.230      GDEG   \n",
      "364     0.068768          0.010       0.000808            0.080      LDEG   \n",
      "655     0.009893          0.012       0.000101            0.096      LDEG   \n",
      "1218    0.007279          0.205       0.000659            0.225      LDEG   \n",
      "160     0.097643          0.010       0.000909            0.090      GDEG   \n",
      "176     0.012873          0.692       0.006766            0.910      LDEG   \n",
      "345     0.012585          0.011       0.000142            0.133      GDEG   \n",
      "1898    0.012454          0.457       0.002741            0.540      LDEG   \n",
      "1717    0.111915          0.110       0.009192            0.200      GDEG   \n",
      "994     0.009524          0.531       0.002322            0.567      LDEG   \n",
      "543     0.010071          0.011       0.000080            0.029      LDEG   \n",
      "1590    0.012425          0.006       0.000054            0.033      LDEG   \n",
      "1207    0.007493          0.007       0.000026            0.011      LDEG   \n",
      "686     0.012741          0.588       0.003760            0.634      GDEG   \n",
      "41      0.132445          0.020       0.002449            0.120      LDEG   \n",
      "925     0.019408          0.218       0.002541            0.320      LDEG   \n",
      "937     0.000000          0.968       0.008321            0.948      LDEG   \n",
      "528     0.006812          0.931       0.002758            0.882      GDEG   \n",
      "929     0.017330          0.672       0.006866            0.744      LDEG   \n",
      "1746    0.009626          0.529       0.002293            0.565      GDEG   \n",
      "1118    0.006765          0.875       0.002657            0.847      GDEG   \n",
      "2348    0.198791          0.440       0.108980            0.680      LDEG   \n",
      "60      0.019258          0.024       0.000441            0.204      GDEG   \n",
      "1372    0.012913          0.534       0.003503            0.550      LDEG   \n",
      "1335    0.000000          0.995       0.006861            0.945      LDEG   \n",
      "1358    0.014529          0.962       0.010641            0.966      LDEG   \n",
      "1496    0.000000          0.950       0.048081            0.910      GDEG   \n",
      "59      0.019434          0.002       0.000044            0.022      GDEG   \n",
      "289     0.000000          0.940       0.081633            0.800      GDEG   \n",
      "\n",
      "      RESULT  \n",
      "858    0.967  \n",
      "427    0.996  \n",
      "1445   0.940  \n",
      "2279   0.974  \n",
      "68     0.950  \n",
      "371    0.960  \n",
      "1245   0.900  \n",
      "2345   0.968  \n",
      "723    0.942  \n",
      "472    0.940  \n",
      "226    0.990  \n",
      "1638   0.918  \n",
      "1527   0.975  \n",
      "1962   0.976  \n",
      "1558   0.974  \n",
      "2117   0.920  \n",
      "504    0.963  \n",
      "896    0.976  \n",
      "1547   0.930  \n",
      "2039   0.981  \n",
      "245    0.960  \n",
      "1477   0.962  \n",
      "364    0.960  \n",
      "655    0.995  \n",
      "1218   0.964  \n",
      "160    0.960  \n",
      "176    0.990  \n",
      "345    0.996  \n",
      "1898   0.982  \n",
      "1717   0.930  \n",
      "994    0.964  \n",
      "543    0.978  \n",
      "1590   0.984  \n",
      "1207   0.964  \n",
      "686    0.944  \n",
      "41     0.940  \n",
      "925    0.968  \n",
      "937    0.968  \n",
      "528    0.963  \n",
      "929    0.968  \n",
      "1746   0.973  \n",
      "1118   0.959  \n",
      "2348   0.920  \n",
      "60     0.992  \n",
      "1372   0.954  \n",
      "1335   0.995  \n",
      "1358   0.968  \n",
      "1496   0.950  \n",
      "59     0.992  \n",
      "289    0.940  \n"
     ]
    },
    {
     "name": "stderr",
     "output_type": "stream",
     "text": [
      "                                                                                           "
     ]
    },
    {
     "name": "stdout",
     "output_type": "stream",
     "text": [
      "ypred\n",
      " [1, 0, 1, 1, 0, 0, 0, 1, 1, 0, 0, 1, 1, 1, 1, 1, 1, 1, 0, 1, 1, 0, 1, 1, 1, 0, 1, 0, 1, 0, 1, 1, 1, 1, 0, 1, 1, 1, 0, 1, 0, 0, 1, 0, 1, 1, 1, 0, 0, 0]\n",
      "y_class_dist ['GDEG', 'LDEG']\n",
      "real\n",
      " [1, 0, 1, 1, 0, 0, 0, 1, 1, 0, 0, 1, 1, 1, 1, 1, 1, 1, 0, 1, 1, 0, 1, 1, 1, 0, 1, 0, 1, 0, 1, 1, 1, 1, 0, 1, 1, 1, 0, 1, 0, 0, 1, 0, 1, 1, 1, 0, 0, 0]\n"
     ]
    },
    {
     "name": "stderr",
     "output_type": "stream",
     "text": [
      "\r"
     ]
    }
   ],
   "source": [
    "from PBC4cip import *\n",
    "import pandas as pd\n",
    "from PBC4cip.core.Helpers import get_col_dist, get_idx_val\n",
    "\n",
    "df = pd.read_csv('train_set.csv')\n",
    "features = [\"EDGE_DENSITY\", \"AVG_DEGREE\",\n",
    "            \"BURNING_NODES\", \"BURNING_EDGES\", \"NODES_IN_DANGER\"]\n",
    "df = df.sample(50)\n",
    "print(df)\n",
    "\n",
    "X_train = df[features]\n",
    "y_train = df[[\"HEURISTIC\"]]\n",
    "# X_test = df_test[features]\n",
    "# y_test = df_test[cla]\n",
    "\n",
    "clf = PBC4cip(filtering=False)\n",
    "clf.fit(X_train, y_train)\n",
    "y_pred = clf.predict(X_train)\n",
    "print('ypred\\n',y_pred)\n",
    "\n",
    "predicted = y_pred\n",
    "y = y_train\n",
    "y_class_dist = get_col_dist(y[f'{y.columns[0]}'])\n",
    "real = list(map(lambda instance: get_idx_val(\n",
    "    y_class_dist, instance), y[f'{y.columns[0]}']))\n",
    "print('y_class_dist', y_class_dist)\n",
    "print('real\\n', real)\n"
   ]
  },
  {
   "cell_type": "code",
   "execution_count": 17,
   "metadata": {},
   "outputs": [
    {
     "name": "stderr",
     "output_type": "stream",
     "text": [
      "                                                                  \r"
     ]
    },
    {
     "data": {
      "text/plain": [
       "[0]"
      ]
     },
     "execution_count": 17,
     "metadata": {},
     "output_type": "execute_result"
    }
   ],
   "source": [
    "test = pd.DataFrame(columns=features, data=[\n",
    "                    [0.004436436436436437, 0.0, 0.996, 0.004436436436436437, 0.922]])\n",
    "y_pred = clf.predict(test)\n",
    "y_pred"
   ]
  },
  {
   "cell_type": "code",
   "execution_count": 16,
   "metadata": {},
   "outputs": [
    {
     "data": {
      "text/plain": [
       "['GDEG', 'LDEG']"
      ]
     },
     "execution_count": 16,
     "metadata": {},
     "output_type": "execute_result"
    }
   ],
   "source": [
    "y_class_dist = get_col_dist(y[f'{y.columns[0]}'])\n",
    "y_class_dist\n"
   ]
  }
 ],
 "metadata": {
  "kernelspec": {
   "display_name": "Python 3.10.0 64-bit",
   "language": "python",
   "name": "python3"
  },
  "language_info": {
   "codemirror_mode": {
    "name": "ipython",
    "version": 3
   },
   "file_extension": ".py",
   "mimetype": "text/x-python",
   "name": "python",
   "nbconvert_exporter": "python",
   "pygments_lexer": "ipython3",
   "version": "3.10.0"
  },
  "orig_nbformat": 4,
  "vscode": {
   "interpreter": {
    "hash": "3e6eaf00392b0cb8b5a646d3515e821c15d6342d64f11192f7e7dc8c1b273a06"
   }
  }
 },
 "nbformat": 4,
 "nbformat_minor": 2
}
